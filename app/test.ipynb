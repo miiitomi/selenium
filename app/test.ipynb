{
 "cells": [
  {
   "cell_type": "code",
   "execution_count": 1,
   "metadata": {},
   "outputs": [],
   "source": [
    "import os\n",
    "import random\n",
    "from selenium import webdriver\n",
    "from selenium.webdriver.common.by import By"
   ]
  },
  {
   "cell_type": "code",
   "execution_count": 2,
   "metadata": {},
   "outputs": [],
   "source": [
    "n = 3"
   ]
  },
  {
   "cell_type": "code",
   "execution_count": 3,
   "metadata": {},
   "outputs": [],
   "source": [
    "abc = \"abcdefghijklmnopqrstuvwxyz\"\n",
    "names = [\"\"] * (n * 2)\n",
    "while (len(set(names)) < 2*n):\n",
    "    for i in range(2*n):\n",
    "        name = \"\"\n",
    "        for j in range(4):\n",
    "            name = name + abc[random.randint(0, 25)]\n",
    "        names[i] = name"
   ]
  },
  {
   "cell_type": "code",
   "execution_count": 4,
   "metadata": {},
   "outputs": [],
   "source": [
    "driver = webdriver.Remote(\n",
    "    command_executor=os.environ[\"SELENIUM_URL\"],\n",
    "    options=webdriver.ChromeOptions()\n",
    ")"
   ]
  },
  {
   "cell_type": "code",
   "execution_count": 5,
   "metadata": {},
   "outputs": [],
   "source": [
    "driver.get(\"https://miiitomi.github.io/matching/\")"
   ]
  },
  {
   "cell_type": "code",
   "execution_count": 6,
   "metadata": {},
   "outputs": [],
   "source": [
    "numbers = driver.find_elements(By.TAG_NAME, \"input\")\n",
    "for e in numbers:\n",
    "    e.clear()\n",
    "    e.send_keys(f\"{n}\")"
   ]
  },
  {
   "cell_type": "code",
   "execution_count": 7,
   "metadata": {},
   "outputs": [],
   "source": [
    "button = driver.find_element(By.XPATH, \"//div[@id='number']/button[1]\")\n",
    "button.click()"
   ]
  },
  {
   "cell_type": "code",
   "execution_count": 8,
   "metadata": {},
   "outputs": [],
   "source": [
    "for i in range(2 * n):\n",
    "    name = driver.find_element(By.XPATH, f\"//div[@id='man_name']/div[{i+1}]/input[1]\")\n",
    "    name.send_keys(names[i])"
   ]
  },
  {
   "cell_type": "code",
   "execution_count": 9,
   "metadata": {},
   "outputs": [],
   "source": [
    "button = driver.find_element(By.XPATH, \"//div[@id='man_name']/button[1]\")\n",
    "button.click()"
   ]
  },
  {
   "cell_type": "code",
   "execution_count": 10,
   "metadata": {},
   "outputs": [],
   "source": [
    "button = driver.find_element(By.XPATH, \"//div[@id='app']/button[1]\")\n",
    "button.click()"
   ]
  },
  {
   "cell_type": "code",
   "execution_count": 12,
   "metadata": {},
   "outputs": [],
   "source": [
    "for k in range(1, 3):\n",
    "    for i in range(n):\n",
    "        button = driver.find_element(By.XPATH, f\"//table[{k}]/tbody[1]/tr[{i+1}]/td[2]/button[1]\")\n",
    "        button.click()\n",
    "        button = driver.find_element(By.XPATH, f\"//table[{k}]/tbody[1]/tr[{i+2}]/td[1]/button[1]\")\n",
    "        button.click()\n",
    "        for j in range(1, n):\n",
    "            button = driver.find_element(By.XPATH, f\"//table[{k}]/tbody[1]/tr[{i+2}]/td[1]/button[2]\")\n",
    "            button.click()\n",
    "        button = driver.find_element(By.XPATH, f\"//table[{k}]/tbody[1]/tr[{i+2}]/td[1]/button[1]\")\n",
    "        button.click()"
   ]
  },
  {
   "cell_type": "code",
   "execution_count": 15,
   "metadata": {},
   "outputs": [],
   "source": [
    "button = driver.find_element(By.XPATH, \"//div[@id='app']/button[2]\")\n",
    "button.click()"
   ]
  },
  {
   "cell_type": "code",
   "execution_count": 16,
   "metadata": {},
   "outputs": [],
   "source": [
    "button = driver.find_element(By.XPATH, \"//div[@id='app']/button[3]\")\n",
    "button.click()"
   ]
  },
  {
   "cell_type": "code",
   "execution_count": 17,
   "metadata": {},
   "outputs": [],
   "source": [
    "button = driver.find_element(By.XPATH, \"//div[@id='app']/div[@class='d-grid gap-2']/button[1]\")\n",
    "button.click()"
   ]
  },
  {
   "cell_type": "code",
   "execution_count": 18,
   "metadata": {},
   "outputs": [],
   "source": [
    "driver.quit()"
   ]
  },
  {
   "cell_type": "code",
   "execution_count": null,
   "metadata": {},
   "outputs": [],
   "source": []
  }
 ],
 "metadata": {
  "interpreter": {
   "hash": "d4d1e4263499bec80672ea0156c357c1ee493ec2b1c70f0acce89fc37c4a6abe"
  },
  "kernelspec": {
   "display_name": "Python 3.9.7 ('base')",
   "language": "python",
   "name": "python3"
  },
  "language_info": {
   "codemirror_mode": {
    "name": "ipython",
    "version": 3
   },
   "file_extension": ".py",
   "mimetype": "text/x-python",
   "name": "python",
   "nbconvert_exporter": "python",
   "pygments_lexer": "ipython3",
   "version": "3.9.7"
  },
  "orig_nbformat": 4
 },
 "nbformat": 4,
 "nbformat_minor": 2
}
